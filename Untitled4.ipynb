{
  "cells": [
    {
      "cell_type": "markdown",
      "metadata": {
        "id": "view-in-github",
        "colab_type": "text"
      },
      "source": [
        "<a href=\"https://colab.research.google.com/github/j-nth/DSA-code-snippets/blob/master/Untitled4.ipynb\" target=\"_parent\"><img src=\"https://colab.research.google.com/assets/colab-badge.svg\" alt=\"Open In Colab\"/></a>"
      ]
    },
    {
      "cell_type": "code",
      "execution_count": 1,
      "metadata": {
        "colab": {
          "base_uri": "https://localhost:8080/"
        },
        "id": "oZhltA8m--Gz",
        "outputId": "4ba2b925-de6e-4bdf-fd4b-3723a7ee7831"
      },
      "outputs": [
        {
          "output_type": "stream",
          "name": "stdout",
          "text": [
            "Mounted at /content/drive\n"
          ]
        }
      ],
      "source": [
        "from google.colab import drive\n",
        "drive.mount('/content/drive')"
      ]
    },
    {
      "cell_type": "code",
      "execution_count": 3,
      "metadata": {
        "colab": {
          "base_uri": "https://localhost:8080/"
        },
        "id": "nkmbeXDm_Bgd",
        "outputId": "9e21418d-6c1f-4ce5-f867-87fb6c6064a2"
      },
      "outputs": [
        {
          "output_type": "stream",
          "name": "stdout",
          "text": [
            "Model: \"model_1\"\n",
            "_________________________________________________________________\n",
            " Layer (type)                Output Shape              Param #   \n",
            "=================================================================\n",
            " input_2 (InputLayer)        [(None, 224, 224, 3)]     0         \n",
            "                                                                 \n",
            " block1_conv1 (Conv2D)       (None, 224, 224, 64)      1792      \n",
            "                                                                 \n",
            " block1_conv2 (Conv2D)       (None, 224, 224, 64)      36928     \n",
            "                                                                 \n",
            " block1_pool (MaxPooling2D)  (None, 112, 112, 64)      0         \n",
            "                                                                 \n",
            " block2_conv1 (Conv2D)       (None, 112, 112, 128)     73856     \n",
            "                                                                 \n",
            " block2_conv2 (Conv2D)       (None, 112, 112, 128)     147584    \n",
            "                                                                 \n",
            " block2_pool (MaxPooling2D)  (None, 56, 56, 128)       0         \n",
            "                                                                 \n",
            " block3_conv1 (Conv2D)       (None, 56, 56, 256)       295168    \n",
            "                                                                 \n",
            " block3_conv2 (Conv2D)       (None, 56, 56, 256)       590080    \n",
            "                                                                 \n",
            " block3_conv3 (Conv2D)       (None, 56, 56, 256)       590080    \n",
            "                                                                 \n",
            " block3_pool (MaxPooling2D)  (None, 28, 28, 256)       0         \n",
            "                                                                 \n",
            " block4_conv1 (Conv2D)       (None, 28, 28, 512)       1180160   \n",
            "                                                                 \n",
            " block4_conv2 (Conv2D)       (None, 28, 28, 512)       2359808   \n",
            "                                                                 \n",
            " block4_conv3 (Conv2D)       (None, 28, 28, 512)       2359808   \n",
            "                                                                 \n",
            " block4_pool (MaxPooling2D)  (None, 14, 14, 512)       0         \n",
            "                                                                 \n",
            " block5_conv1 (Conv2D)       (None, 14, 14, 512)       2359808   \n",
            "                                                                 \n",
            " block5_conv2 (Conv2D)       (None, 14, 14, 512)       2359808   \n",
            "                                                                 \n",
            " block5_conv3 (Conv2D)       (None, 14, 14, 512)       2359808   \n",
            "                                                                 \n",
            " block5_pool (MaxPooling2D)  (None, 7, 7, 512)         0         \n",
            "                                                                 \n",
            " flatten_1 (Flatten)         (None, 25088)             0         \n",
            "                                                                 \n",
            " dense_1 (Dense)             (None, 2)                 50178     \n",
            "                                                                 \n",
            "=================================================================\n",
            "Total params: 14,764,866\n",
            "Trainable params: 50,178\n",
            "Non-trainable params: 14,714,688\n",
            "_________________________________________________________________\n",
            "Found 27768 images belonging to 2 classes.\n",
            "Found 748 images belonging to 2 classes.\n"
          ]
        }
      ],
      "source": [
        "import keras\n",
        "from keras.models import Model\n",
        "from keras.layers import Flatten, Dense\n",
        "from keras.applications.vgg16 import VGG16\n",
        "import matplotlib.pyplot as plot\n",
        "from glob import glob\n",
        "\n",
        "IMAGE_SHAPE = [224, 224, 3]\n",
        "vgg_model = VGG16(input_shape=IMAGE_SHAPE, weights='imagenet', include_top=False)\n",
        "training_data = '/content/drive/MyDrive/Classroom/dataset/temp'\n",
        "testing_data = '/content/drive/MyDrive/Classroom/dataset/test'\n",
        "\n",
        "for layer in vgg_model.layers:\n",
        "    layer.trainable = False\n",
        "classes = glob('/content/drive/MyDrive/Classroom/dataset/temp/*')\n",
        "flatten_layer = Flatten()(vgg_model.output)\n",
        "prediction = Dense(len(classes), activation='softmax')(flatten_layer)\n",
        "final_model = Model(inputs=vgg_model.input, outputs=prediction)\n",
        "final_model.summary()\n",
        "final_model.compile(loss='categorical_crossentropy', optimizer='adam', metrics=['acc'])\n",
        "\n",
        "from keras.preprocessing.image import ImageDataGenerator\n",
        "train_datagen = ImageDataGenerator(rescale=1./255, shear_range=0.2, zoom_range=0.2, horizontal_flip=True)\n",
        "testing_datagen = ImageDataGenerator(rescale=1./255)\n",
        "training_set = train_datagen.flow_from_directory('/content/drive/MyDrive/Classroom/dataset/temp', target_size=(224, 224), batch_size=4, class_mode='categorical')\n",
        "test_set = testing_datagen.flow_from_directory('/content/drive/MyDrive/Classroom/dataset/test', target_size=(224, 224), batch_size=4, class_mode='categorical')\n",
        "\n",
        "class CustomCallback(keras.callbacks.Callback):\n",
        "    def on_epoch_end(self, epoch, logs=None):\n",
        "        model_filename = \"our_model_epoch_{}.h5\".format(epoch)\n",
        "        self.model.save(model_filename)\n"
      ]
    },
    {
      "cell_type": "code",
      "execution_count": 5,
      "metadata": {
        "colab": {
          "base_uri": "https://localhost:8080/"
        },
        "id": "S6yxfzNDqql1",
        "outputId": "db5b7108-bbca-4f76-bfea-8594c994223e"
      },
      "outputs": [
        {
          "output_type": "stream",
          "name": "stdout",
          "text": [
            "Epoch 1/16\n",
            "6942/6942 [==============================] - 2278s 328ms/step - loss: 0.3316 - acc: 0.9304 - val_loss: 2.1887 - val_acc: 0.7647\n",
            "Epoch 2/16\n",
            "6942/6942 [==============================] - 737s 106ms/step - loss: 0.2716 - acc: 0.9511 - val_loss: 3.4704 - val_acc: 0.7981\n",
            "Epoch 3/16\n",
            "6942/6942 [==============================] - 737s 106ms/step - loss: 0.2795 - acc: 0.9562 - val_loss: 2.6093 - val_acc: 0.8115\n",
            "Epoch 4/16\n",
            "6942/6942 [==============================] - 735s 106ms/step - loss: 0.2575 - acc: 0.9606 - val_loss: 2.7235 - val_acc: 0.8102\n",
            "Epoch 5/16\n",
            "6942/6942 [==============================] - 733s 106ms/step - loss: 0.2538 - acc: 0.9627 - val_loss: 2.6065 - val_acc: 0.8115\n",
            "Epoch 6/16\n",
            "6942/6942 [==============================] - 737s 106ms/step - loss: 0.2422 - acc: 0.9651 - val_loss: 2.9061 - val_acc: 0.8115\n",
            "Epoch 7/16\n",
            "6942/6942 [==============================] - 735s 106ms/step - loss: 0.2194 - acc: 0.9662 - val_loss: 3.1747 - val_acc: 0.8155\n",
            "Epoch 8/16\n",
            "6942/6942 [==============================] - 738s 106ms/step - loss: 0.2172 - acc: 0.9685 - val_loss: 4.7088 - val_acc: 0.7981\n",
            "Epoch 9/16\n",
            "6942/6942 [==============================] - 736s 106ms/step - loss: 0.2165 - acc: 0.9696 - val_loss: 3.1660 - val_acc: 0.8142\n",
            "Epoch 10/16\n",
            "6942/6942 [==============================] - 733s 106ms/step - loss: 0.2317 - acc: 0.9693 - val_loss: 3.2230 - val_acc: 0.8088\n",
            "Epoch 11/16\n",
            "6942/6942 [==============================] - 738s 106ms/step - loss: 0.2054 - acc: 0.9713 - val_loss: 3.6781 - val_acc: 0.8142\n",
            "Epoch 12/16\n",
            "6942/6942 [==============================] - 733s 106ms/step - loss: 0.1940 - acc: 0.9722 - val_loss: 3.0880 - val_acc: 0.8075\n",
            "Epoch 13/16\n",
            "6942/6942 [==============================] - 733s 106ms/step - loss: 0.1996 - acc: 0.9733 - val_loss: 4.3506 - val_acc: 0.8048\n",
            "Epoch 14/16\n",
            "6942/6942 [==============================] - 737s 106ms/step - loss: 0.1985 - acc: 0.9728 - val_loss: 4.1700 - val_acc: 0.8102\n",
            "Epoch 15/16\n",
            "6942/6942 [==============================] - 735s 106ms/step - loss: 0.1896 - acc: 0.9750 - val_loss: 4.0286 - val_acc: 0.8168\n",
            "Epoch 16/16\n",
            "6942/6942 [==============================] - 732s 105ms/step - loss: 0.1913 - acc: 0.9750 - val_loss: 3.5923 - val_acc: 0.8061\n"
          ]
        }
      ],
      "source": [
        "fitted_model = final_model.fit(training_set, validation_data=test_set, epochs=16, steps_per_epoch=len(training_set), validation_steps=len(test_set), callbacks=[CustomCallback()])\n"
      ]
    },
    {
      "cell_type": "code",
      "source": [
        "destination_path = '/content/drive/MyDrive/Classroom/dataset/my_pmodel.h5'\n",
        "\n",
        "# Save the model to the specified path\n",
        "final_model.save(destination_path)"
      ],
      "metadata": {
        "id": "QkhOuCy_h2eQ"
      },
      "execution_count": 6,
      "outputs": []
    },
    {
      "cell_type": "code",
      "source": [
        "plot.plot(fitted_model.history['loss'], label='training loss')\n",
        "plot.plot(fitted_model.history['val_loss'], label='validation loss')\n",
        "plot.legend()\n",
        "plot.show()\n",
        "plot.savefig('LossVal_loss')\n",
        "plot.plot(fitted_model.history['acc'], label='training accuracy')\n",
        "plot.plot(fitted_model.history['val_acc'], label='validation accuracy')\n",
        "plot.legend()\n",
        "plot.show()\n",
        "plot.savefig('AccVal_acc')"
      ],
      "metadata": {
        "colab": {
          "base_uri": "https://localhost:8080/",
          "height": 530
        },
        "id": "5xV9njnyTDbh",
        "outputId": "3ddda82e-ab5a-4f1e-f095-32d11afe8932"
      },
      "execution_count": 7,
      "outputs": [
        {
          "output_type": "display_data",
          "data": {
            "text/plain": [
              "<Figure size 432x288 with 1 Axes>"
            ],
            "image/png": "[encoded data removed]"
          },
          "metadata": {
            "needs_background": "light"
          }
        },
        {
          "output_type": "display_data",
          "data": {
            "text/plain": [
              "<Figure size 432x288 with 1 Axes>"
            ],
            "image/png": "[encoded data removed]"
          },
          "metadata": {
            "needs_background": "light"
          }
        },
        {
          "output_type": "display_data",
          "data": {
            "text/plain": [
              "<Figure size 432x288 with 0 Axes>"
            ]
          },
          "metadata": {}
        }
      ]
    },
    {
      "cell_type": "code",
      "source": [
        "# Load the saved model\n",
        "# from keras.models import load_model\n",
        "# model = load_model('our_model.h5')\n",
        "\n",
        "# # Evaluate the model on the test set\n",
        "test_loss, test_acc = final_model.evaluate_generator(test_set, steps=len(test_set))\n",
        "print('Test accuracy:', test_acc)\n"
      ],
      "metadata": {
        "colab": {
          "base_uri": "https://localhost:8080/"
        },
        "id": "D7eDcHuWh4wI",
        "outputId": "f76a6981-88b6-43fd-d12b-f92caa51659c"
      },
      "execution_count": 8,
      "outputs": [
        {
          "output_type": "stream",
          "name": "stderr",
          "text": [
            "<ipython-input-8-b89de085820c>:6: UserWarning: `Model.evaluate_generator` is deprecated and will be removed in a future version. Please use `Model.evaluate`, which supports generators.\n",
            "  test_loss, test_acc = final_model.evaluate_generator(test_set, steps=len(test_set))\n"
          ]
        },
        {
          "output_type": "stream",
          "name": "stdout",
          "text": [
            "Test accuracy: 0.8061497211456299\n"
          ]
        }
      ]
    },
    {
      "cell_type": "code",
      "execution_count": null,
      "metadata": {
        "id": "Mw2qasEL_ykh"
      },
      "outputs": [],
      "source": [
        "# Example path in your Google Drive\n",
        "destination_path = '/content/drive/MyDrive/Classroom/dataset/my_model.h5'\n",
        "\n",
        "# Save the model to the specified path\n",
        "final_model.save(destination_path)\n"
      ]
    },
    {
      "cell_type": "code",
      "source": [
        "import numpy as np\n",
        "y_pred = np.argmax(final_model.predict(test_set), axis=-1)\n",
        "y_true = test_set.classes\n",
        "from sklearn.metrics import confusion_matrix\n",
        "cm = confusion_matrix(y_true, y_pred)\n",
        "print(cm)\n",
        "from sklearn.metrics import accuracy_score\n",
        "accuracy = accuracy_score(y_true, y_pred)\n",
        "print(\"Accuracy:\", accuracy)"
      ],
      "metadata": {
        "colab": {
          "base_uri": "https://localhost:8080/"
        },
        "id": "15GSRvSQukO5",
        "outputId": "fd17e94d-9d3d-453a-d034-e6b8dbef82e0"
      },
      "execution_count": 9,
      "outputs": [
        {
          "output_type": "stream",
          "name": "stdout",
          "text": [
            "187/187 [==============================] - 7s 38ms/step\n",
            "[[ 76 158]\n",
            " [173 341]]\n",
            "Accuracy: 0.5574866310160428\n"
          ]
        }
      ]
    }
  ],
  "metadata": {
    "accelerator": "GPU",
    "colab": {
      "provenance": [],
      "authorship_tag": "ABX9TyM0/MUIycf3vrqKGGBbJegt",
      "include_colab_link": true
    },
    "gpuClass": "premium",
    "kernelspec": {
      "display_name": "Python 3",
      "name": "python3"
    },
    "language_info": {
      "name": "python"
    }
  },
  "nbformat": 4,
  "nbformat_minor": 0
}